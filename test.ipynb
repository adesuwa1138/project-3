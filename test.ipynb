{
 "cells": [
  {
   "cell_type": "code",
   "execution_count": 10,
   "metadata": {},
   "outputs": [],
   "source": [
    "from splinter import Browser\n",
    "from bs4 import BeautifulSoup as soup\n",
    "from webdriver_manager.chrome import ChromeDriverManager\n",
    "import matplotlib.pyplot as plt\n",
    "import pandas as pd"
   ]
  },
  {
   "cell_type": "code",
   "execution_count": 77,
   "metadata": {},
   "outputs": [],
   "source": [
    "year = list(range(1960,2022))\n",
    "url_list = []\n",
    "for row in year:\n",
    "    year_url = 'https://www.famousbirthdays.com/year/'+ str(row) +'.html'\n",
    "    url_list.append(year_url)"
   ]
  },
  {
   "cell_type": "code",
   "execution_count": 86,
   "metadata": {},
   "outputs": [
    {
     "ename": "KeyError",
     "evalue": "'style'",
     "output_type": "error",
     "traceback": [
      "\u001b[1;31m---------------------------------------------------------------------------\u001b[0m",
      "\u001b[1;31mKeyError\u001b[0m                                  Traceback (most recent call last)",
      "Cell \u001b[1;32mIn [86], line 18\u001b[0m\n\u001b[0;32m     16\u001b[0m     \u001b[39mfor\u001b[39;00m a \u001b[39min\u001b[39;00m people:\n\u001b[0;32m     17\u001b[0m         name\u001b[39m.\u001b[39mappend(a\u001b[39m.\u001b[39mtext)\n\u001b[1;32m---> 18\u001b[0m         img_url\u001b[39m.\u001b[39mappend(a[\u001b[39m'\u001b[39m\u001b[39mstyle\u001b[39m\u001b[39m'\u001b[39m])\n\u001b[0;32m     20\u001b[0m \u001b[39m#     img_url.append(a['style']) \u001b[39;00m\n\u001b[0;32m     21\u001b[0m \n\u001b[0;32m     22\u001b[0m \u001b[39m#     print(a['style'])\u001b[39;00m\n\u001b[1;32m   (...)\u001b[0m\n\u001b[0;32m     25\u001b[0m     \u001b[39m# soup = {'img': img_}\u001b[39;00m\n\u001b[0;32m     26\u001b[0m \u001b[39m# print(soups.prettify())\u001b[39;00m\n\u001b[0;32m     27\u001b[0m browser\u001b[39m.\u001b[39mquit()\n",
      "File \u001b[1;32m~\\AppData\\Roaming\\Python\\Python310\\site-packages\\bs4\\element.py:1519\u001b[0m, in \u001b[0;36mTag.__getitem__\u001b[1;34m(self, key)\u001b[0m\n\u001b[0;32m   1516\u001b[0m \u001b[39mdef\u001b[39;00m \u001b[39m__getitem__\u001b[39m(\u001b[39mself\u001b[39m, key):\n\u001b[0;32m   1517\u001b[0m     \u001b[39m\"\"\"tag[key] returns the value of the 'key' attribute for the Tag,\u001b[39;00m\n\u001b[0;32m   1518\u001b[0m \u001b[39m    and throws an exception if it's not there.\"\"\"\u001b[39;00m\n\u001b[1;32m-> 1519\u001b[0m     \u001b[39mreturn\u001b[39;00m \u001b[39mself\u001b[39;49m\u001b[39m.\u001b[39;49mattrs[key]\n",
      "\u001b[1;31mKeyError\u001b[0m: 'style'"
     ]
    }
   ],
   "source": [
    "executable_path = {'executable_path': ChromeDriverManager().install()}\n",
    "browser = Browser('chrome', **executable_path, headless=False)\n",
    "\n",
    "soups = {}\n",
    "\n",
    "for url in url_list:\n",
    "    browser.visit(url)\n",
    "    html = browser.html\n",
    "    sp = soup(html,\"html.parser\")\n",
    "    div_people_list = sp.find('div', class_ ='container people-list')\n",
    "    people = div_people_list.find_all('a')\n",
    "    name = []\n",
    "    img_url = []\n",
    "\n",
    "\n",
    "    for a in people:\n",
    "        name.append(a.text)\n",
    "        img_url.append(a['style'])\n",
    "\n",
    "#     img_url.append(a['style']) \n",
    "\n",
    "#     print(a['style'])\n",
    "    # soups.append(name)\n",
    "\n",
    "    # soup = {'img': img_}\n",
    "# print(soups.prettify())\n",
    "browser.quit()"
   ]
  },
  {
   "cell_type": "code",
   "execution_count": null,
   "metadata": {},
   "outputs": [],
   "source": []
  },
  {
   "cell_type": "code",
   "execution_count": 84,
   "metadata": {},
   "outputs": [
    {
     "data": {
      "text/plain": [
       "['https://www.famousbirthdays.com/people/poppy-herbert.html',\n",
       " 'https://www.famousbirthdays.com/people/madison-conder.html',\n",
       " 'https://www.famousbirthdays.com/people/super-funk.html',\n",
       " 'https://www.famousbirthdays.com/people/mila-ingham.html',\n",
       " 'https://www.famousbirthdays.com/people/emersyn-day.html',\n",
       " 'https://www.famousbirthdays.com/people/lilibet-mountbatten-windsor.html',\n",
       " 'https://www.famousbirthdays.com/people/bryson-panton.html',\n",
       " 'https://www.famousbirthdays.com/people/kentrell-jr.html',\n",
       " 'https://www.famousbirthdays.com/people/maisy-joanne-stocklin.html',\n",
       " 'https://www.famousbirthdays.com/people/caedon-hall.html',\n",
       " 'https://www.famousbirthdays.com/people/emmett-fluellen.html',\n",
       " 'https://www.famousbirthdays.com/people/poppy-xavier.html',\n",
       " 'https://www.famousbirthdays.com/people/wesley-koy-stocklin.html',\n",
       " 'https://www.famousbirthdays.com/people/dayshawn-wilson-jr.html',\n",
       " 'https://www.famousbirthdays.com/people/knox-atwood.html',\n",
       " 'https://www.famousbirthdays.com/people/ottilie-deyes.html',\n",
       " 'https://www.famousbirthdays.com/people/wave-set-cephus.html',\n",
       " 'https://www.famousbirthdays.com/people/rodeo-lil-bling-bling.html',\n",
       " 'https://www.famousbirthdays.com/people/teddy-ballinger.html',\n",
       " 'https://www.famousbirthdays.com/people/axel-oxlade-chamberlain.html',\n",
       " 'https://www.famousbirthdays.com/people/riley-sabara.html',\n",
       " 'https://www.famousbirthdays.com/people/melodyzside.html',\n",
       " 'https://www.famousbirthdays.com/people/zen-cannon.html',\n",
       " 'https://www.famousbirthdays.com/people/violet-knight.html',\n",
       " 'https://www.famousbirthdays.com/people/kaliah-newman.html',\n",
       " 'https://www.famousbirthdays.com/people/stella-beeston.html',\n",
       " 'https://www.famousbirthdays.com/people/river-kopech.html',\n",
       " 'https://www.famousbirthdays.com/people/shine-roberts.html',\n",
       " 'https://www.famousbirthdays.com/people/sterling-mahomes.html',\n",
       " 'https://www.famousbirthdays.com/people/neo-valdes.html',\n",
       " 'https://www.famousbirthdays.com/people/poppy-james-herbert.html',\n",
       " 'https://www.famousbirthdays.com/people/jupiter-french.html',\n",
       " 'https://www.famousbirthdays.com/people/grace-warrior-powell.html',\n",
       " 'https://www.famousbirthdays.com/people/jaxton-liera.html',\n",
       " 'https://www.famousbirthdays.com/people/oonagh-heard.html',\n",
       " 'https://www.famousbirthdays.com/people/honey-huff.html',\n",
       " 'https://www.famousbirthdays.com/people/ender-aydin.html',\n",
       " 'https://www.famousbirthdays.com/people/messiah-ni-colby.html',\n",
       " 'https://www.famousbirthdays.com/people/theo-thompson.html',\n",
       " 'https://www.famousbirthdays.com/people/aiden-gerber.html',\n",
       " 'https://www.famousbirthdays.com/people/dakota-song-culkin.html',\n",
       " 'https://www.famousbirthdays.com/people/cosmo-jost.html',\n",
       " 'https://www.famousbirthdays.com/people/lily-gilbert.html',\n",
       " 'https://www.famousbirthdays.com/people/rio-penavega.html',\n",
       " 'https://www.famousbirthdays.com/people/london-correia.html',\n",
       " 'https://www.famousbirthdays.com/people/leo-mcallister.html',\n",
       " 'https://www.famousbirthdays.com/people/august-brooksbank.html',\n",
       " 'https://www.famousbirthdays.com/people/jett-james-east.html',\n",
       " '/movies/year/2021.html',\n",
       " '/shows/year/2021.html',\n",
       " '/deceased/2021.html']"
      ]
     },
     "execution_count": 84,
     "metadata": {},
     "output_type": "execute_result"
    }
   ],
   "source": [
    "img_url"
   ]
  },
  {
   "cell_type": "code",
   "execution_count": 89,
   "metadata": {},
   "outputs": [
    {
     "ename": "NoSuchWindowException",
     "evalue": "Message: no such window: target window already closed\nfrom unknown error: web view not found\n  (Session info: chrome=108.0.5359.126)\n",
     "output_type": "error",
     "traceback": [
      "\u001b[1;31m---------------------------------------------------------------------------\u001b[0m",
      "\u001b[1;31mNoSuchWindowException\u001b[0m                     Traceback (most recent call last)",
      "Cell \u001b[1;32mIn [89], line 4\u001b[0m\n\u001b[0;32m      1\u001b[0m soups \u001b[39m=\u001b[39m {}\n\u001b[0;32m      3\u001b[0m \u001b[39mfor\u001b[39;00m url \u001b[39min\u001b[39;00m url_list:\n\u001b[1;32m----> 4\u001b[0m  browser\u001b[39m.\u001b[39mvisit(url)\n\u001b[0;32m      5\u001b[0m  html \u001b[39m=\u001b[39m browser\u001b[39m.\u001b[39mhtml\n\u001b[0;32m      6\u001b[0m  sp \u001b[39m=\u001b[39m soup(html,\u001b[39m\"\u001b[39m\u001b[39mhtml.parser\u001b[39m\u001b[39m\"\u001b[39m)\n",
      "File \u001b[1;32m~\\AppData\\Roaming\\Python\\Python310\\site-packages\\splinter\\driver\\webdriver\\__init__.py:319\u001b[0m, in \u001b[0;36mBaseWebDriver.visit\u001b[1;34m(self, url)\u001b[0m\n\u001b[0;32m    318\u001b[0m \u001b[39mdef\u001b[39;00m \u001b[39mvisit\u001b[39m(\u001b[39mself\u001b[39m, url):\n\u001b[1;32m--> 319\u001b[0m     \u001b[39mself\u001b[39;49m\u001b[39m.\u001b[39;49mdriver\u001b[39m.\u001b[39;49mget(url)\n",
      "File \u001b[1;32m~\\AppData\\Roaming\\Python\\Python310\\site-packages\\selenium\\webdriver\\remote\\webdriver.py:333\u001b[0m, in \u001b[0;36mWebDriver.get\u001b[1;34m(self, url)\u001b[0m\n\u001b[0;32m    329\u001b[0m \u001b[39mdef\u001b[39;00m \u001b[39mget\u001b[39m(\u001b[39mself\u001b[39m, url):\n\u001b[0;32m    330\u001b[0m     \u001b[39m\"\"\"\u001b[39;00m\n\u001b[0;32m    331\u001b[0m \u001b[39m    Loads a web page in the current browser session.\u001b[39;00m\n\u001b[0;32m    332\u001b[0m \u001b[39m    \"\"\"\u001b[39;00m\n\u001b[1;32m--> 333\u001b[0m     \u001b[39mself\u001b[39;49m\u001b[39m.\u001b[39;49mexecute(Command\u001b[39m.\u001b[39;49mGET, {\u001b[39m'\u001b[39;49m\u001b[39murl\u001b[39;49m\u001b[39m'\u001b[39;49m: url})\n",
      "File \u001b[1;32m~\\AppData\\Roaming\\Python\\Python310\\site-packages\\selenium\\webdriver\\remote\\webdriver.py:321\u001b[0m, in \u001b[0;36mWebDriver.execute\u001b[1;34m(self, driver_command, params)\u001b[0m\n\u001b[0;32m    319\u001b[0m response \u001b[39m=\u001b[39m \u001b[39mself\u001b[39m\u001b[39m.\u001b[39mcommand_executor\u001b[39m.\u001b[39mexecute(driver_command, params)\n\u001b[0;32m    320\u001b[0m \u001b[39mif\u001b[39;00m response:\n\u001b[1;32m--> 321\u001b[0m     \u001b[39mself\u001b[39;49m\u001b[39m.\u001b[39;49merror_handler\u001b[39m.\u001b[39;49mcheck_response(response)\n\u001b[0;32m    322\u001b[0m     response[\u001b[39m'\u001b[39m\u001b[39mvalue\u001b[39m\u001b[39m'\u001b[39m] \u001b[39m=\u001b[39m \u001b[39mself\u001b[39m\u001b[39m.\u001b[39m_unwrap_value(\n\u001b[0;32m    323\u001b[0m         response\u001b[39m.\u001b[39mget(\u001b[39m'\u001b[39m\u001b[39mvalue\u001b[39m\u001b[39m'\u001b[39m, \u001b[39mNone\u001b[39;00m))\n\u001b[0;32m    324\u001b[0m     \u001b[39mreturn\u001b[39;00m response\n",
      "File \u001b[1;32m~\\AppData\\Roaming\\Python\\Python310\\site-packages\\selenium\\webdriver\\remote\\errorhandler.py:242\u001b[0m, in \u001b[0;36mErrorHandler.check_response\u001b[1;34m(self, response)\u001b[0m\n\u001b[0;32m    240\u001b[0m         alert_text \u001b[39m=\u001b[39m value[\u001b[39m'\u001b[39m\u001b[39malert\u001b[39m\u001b[39m'\u001b[39m]\u001b[39m.\u001b[39mget(\u001b[39m'\u001b[39m\u001b[39mtext\u001b[39m\u001b[39m'\u001b[39m)\n\u001b[0;32m    241\u001b[0m     \u001b[39mraise\u001b[39;00m exception_class(message, screen, stacktrace, alert_text)\n\u001b[1;32m--> 242\u001b[0m \u001b[39mraise\u001b[39;00m exception_class(message, screen, stacktrace)\n",
      "\u001b[1;31mNoSuchWindowException\u001b[0m: Message: no such window: target window already closed\nfrom unknown error: web view not found\n  (Session info: chrome=108.0.5359.126)\n"
     ]
    }
   ],
   "source": [
    "soups = {}\n",
    "\n",
    "for url in url_list:\n",
    " browser.visit(url)\n",
    " html = browser.html\n",
    " sp = soup(html,\"html.parser\")\n",
    " div_people_list = sp.find('div', class_ ='container people-list')\n",
    " people = div_people_list.find_all('a')\n",
    " \n",
    " name = []\n",
    " img_url = []\n",
    " \n",
    "\n",
    " \n",
    " for a in people:\n",
    "    name.append(a.text)\n",
    "    # img_url.append(a['href'])\n",
    "\n",
    "    img_url.append(a['style']) \n",
    "\n",
    "    print(a['style'])\n",
    "\n",
    "# soups[url] ={'name': name}"
   ]
  },
  {
   "cell_type": "code",
   "execution_count": 71,
   "metadata": {},
   "outputs": [
    {
     "name": "stdout",
     "output_type": "stream",
     "text": [
      "https://www.famousbirthdays.com/year/1960.html\n",
      "https://www.famousbirthdays.com/year/1961.html\n",
      "https://www.famousbirthdays.com/year/1962.html\n",
      "https://www.famousbirthdays.com/year/1963.html\n",
      "https://www.famousbirthdays.com/year/1964.html\n",
      "https://www.famousbirthdays.com/year/1965.html\n",
      "https://www.famousbirthdays.com/year/1966.html\n",
      "https://www.famousbirthdays.com/year/1967.html\n",
      "https://www.famousbirthdays.com/year/1968.html\n",
      "https://www.famousbirthdays.com/year/1969.html\n",
      "https://www.famousbirthdays.com/year/1970.html\n",
      "https://www.famousbirthdays.com/year/1971.html\n",
      "https://www.famousbirthdays.com/year/1972.html\n",
      "https://www.famousbirthdays.com/year/1973.html\n",
      "https://www.famousbirthdays.com/year/1974.html\n",
      "https://www.famousbirthdays.com/year/1975.html\n",
      "https://www.famousbirthdays.com/year/1976.html\n",
      "https://www.famousbirthdays.com/year/1977.html\n",
      "https://www.famousbirthdays.com/year/1978.html\n",
      "https://www.famousbirthdays.com/year/1979.html\n",
      "https://www.famousbirthdays.com/year/1980.html\n",
      "https://www.famousbirthdays.com/year/1981.html\n",
      "https://www.famousbirthdays.com/year/1982.html\n",
      "https://www.famousbirthdays.com/year/1983.html\n",
      "https://www.famousbirthdays.com/year/1984.html\n",
      "https://www.famousbirthdays.com/year/1985.html\n",
      "https://www.famousbirthdays.com/year/1986.html\n",
      "https://www.famousbirthdays.com/year/1987.html\n",
      "https://www.famousbirthdays.com/year/1988.html\n",
      "https://www.famousbirthdays.com/year/1989.html\n",
      "https://www.famousbirthdays.com/year/1990.html\n",
      "https://www.famousbirthdays.com/year/1991.html\n",
      "https://www.famousbirthdays.com/year/1992.html\n",
      "https://www.famousbirthdays.com/year/1993.html\n",
      "https://www.famousbirthdays.com/year/1994.html\n",
      "https://www.famousbirthdays.com/year/1995.html\n",
      "https://www.famousbirthdays.com/year/1996.html\n",
      "https://www.famousbirthdays.com/year/1997.html\n",
      "https://www.famousbirthdays.com/year/1998.html\n",
      "https://www.famousbirthdays.com/year/1999.html\n",
      "https://www.famousbirthdays.com/year/2000.html\n",
      "https://www.famousbirthdays.com/year/2001.html\n",
      "https://www.famousbirthdays.com/year/2002.html\n",
      "https://www.famousbirthdays.com/year/2003.html\n",
      "https://www.famousbirthdays.com/year/2004.html\n",
      "https://www.famousbirthdays.com/year/2005.html\n",
      "https://www.famousbirthdays.com/year/2006.html\n",
      "https://www.famousbirthdays.com/year/2007.html\n",
      "https://www.famousbirthdays.com/year/2008.html\n",
      "https://www.famousbirthdays.com/year/2009.html\n",
      "https://www.famousbirthdays.com/year/2010.html\n",
      "https://www.famousbirthdays.com/year/2011.html\n",
      "https://www.famousbirthdays.com/year/2012.html\n",
      "https://www.famousbirthdays.com/year/2013.html\n",
      "https://www.famousbirthdays.com/year/2014.html\n",
      "https://www.famousbirthdays.com/year/2015.html\n",
      "https://www.famousbirthdays.com/year/2016.html\n",
      "https://www.famousbirthdays.com/year/2017.html\n",
      "https://www.famousbirthdays.com/year/2018.html\n",
      "https://www.famousbirthdays.com/year/2019.html\n",
      "https://www.famousbirthdays.com/year/2020.html\n",
      "https://www.famousbirthdays.com/year/2021.html\n"
     ]
    }
   ],
   "source": []
  },
  {
   "cell_type": "code",
   "execution_count": 72,
   "metadata": {},
   "outputs": [
    {
     "data": {
      "text/plain": [
       "['https://www.famousbirthdays.com/year/1960.html',\n",
       " 'https://www.famousbirthdays.com/year/1961.html',\n",
       " 'https://www.famousbirthdays.com/year/1962.html',\n",
       " 'https://www.famousbirthdays.com/year/1963.html',\n",
       " 'https://www.famousbirthdays.com/year/1964.html',\n",
       " 'https://www.famousbirthdays.com/year/1965.html',\n",
       " 'https://www.famousbirthdays.com/year/1966.html',\n",
       " 'https://www.famousbirthdays.com/year/1967.html',\n",
       " 'https://www.famousbirthdays.com/year/1968.html',\n",
       " 'https://www.famousbirthdays.com/year/1969.html',\n",
       " 'https://www.famousbirthdays.com/year/1970.html',\n",
       " 'https://www.famousbirthdays.com/year/1971.html',\n",
       " 'https://www.famousbirthdays.com/year/1972.html',\n",
       " 'https://www.famousbirthdays.com/year/1973.html',\n",
       " 'https://www.famousbirthdays.com/year/1974.html',\n",
       " 'https://www.famousbirthdays.com/year/1975.html',\n",
       " 'https://www.famousbirthdays.com/year/1976.html',\n",
       " 'https://www.famousbirthdays.com/year/1977.html',\n",
       " 'https://www.famousbirthdays.com/year/1978.html',\n",
       " 'https://www.famousbirthdays.com/year/1979.html',\n",
       " 'https://www.famousbirthdays.com/year/1980.html',\n",
       " 'https://www.famousbirthdays.com/year/1981.html',\n",
       " 'https://www.famousbirthdays.com/year/1982.html',\n",
       " 'https://www.famousbirthdays.com/year/1983.html',\n",
       " 'https://www.famousbirthdays.com/year/1984.html',\n",
       " 'https://www.famousbirthdays.com/year/1985.html',\n",
       " 'https://www.famousbirthdays.com/year/1986.html',\n",
       " 'https://www.famousbirthdays.com/year/1987.html',\n",
       " 'https://www.famousbirthdays.com/year/1988.html',\n",
       " 'https://www.famousbirthdays.com/year/1989.html',\n",
       " 'https://www.famousbirthdays.com/year/1990.html',\n",
       " 'https://www.famousbirthdays.com/year/1991.html',\n",
       " 'https://www.famousbirthdays.com/year/1992.html',\n",
       " 'https://www.famousbirthdays.com/year/1993.html',\n",
       " 'https://www.famousbirthdays.com/year/1994.html',\n",
       " 'https://www.famousbirthdays.com/year/1995.html',\n",
       " 'https://www.famousbirthdays.com/year/1996.html',\n",
       " 'https://www.famousbirthdays.com/year/1997.html',\n",
       " 'https://www.famousbirthdays.com/year/1998.html',\n",
       " 'https://www.famousbirthdays.com/year/1999.html',\n",
       " 'https://www.famousbirthdays.com/year/2000.html',\n",
       " 'https://www.famousbirthdays.com/year/2001.html',\n",
       " 'https://www.famousbirthdays.com/year/2002.html',\n",
       " 'https://www.famousbirthdays.com/year/2003.html',\n",
       " 'https://www.famousbirthdays.com/year/2004.html',\n",
       " 'https://www.famousbirthdays.com/year/2005.html',\n",
       " 'https://www.famousbirthdays.com/year/2006.html',\n",
       " 'https://www.famousbirthdays.com/year/2007.html',\n",
       " 'https://www.famousbirthdays.com/year/2008.html',\n",
       " 'https://www.famousbirthdays.com/year/2009.html',\n",
       " 'https://www.famousbirthdays.com/year/2010.html',\n",
       " 'https://www.famousbirthdays.com/year/2011.html',\n",
       " 'https://www.famousbirthdays.com/year/2012.html',\n",
       " 'https://www.famousbirthdays.com/year/2013.html',\n",
       " 'https://www.famousbirthdays.com/year/2014.html',\n",
       " 'https://www.famousbirthdays.com/year/2015.html',\n",
       " 'https://www.famousbirthdays.com/year/2016.html',\n",
       " 'https://www.famousbirthdays.com/year/2017.html',\n",
       " 'https://www.famousbirthdays.com/year/2018.html',\n",
       " 'https://www.famousbirthdays.com/year/2019.html',\n",
       " 'https://www.famousbirthdays.com/year/2020.html',\n",
       " 'https://www.famousbirthdays.com/year/2021.html']"
      ]
     },
     "execution_count": 72,
     "metadata": {},
     "output_type": "execute_result"
    }
   ],
   "source": [
    "url_list"
   ]
  },
  {
   "cell_type": "code",
   "execution_count": null,
   "metadata": {},
   "outputs": [],
   "source": [
    "div_people_list = sp.find('div', class_ ='container people-list')\n"
   ]
  },
  {
   "cell_type": "code",
   "execution_count": 58,
   "metadata": {},
   "outputs": [],
   "source": []
  },
  {
   "cell_type": "code",
   "execution_count": 60,
   "metadata": {},
   "outputs": [],
   "source": [
    "people = div_people_list.find_all('a')\n",
    "\n"
   ]
  },
  {
   "cell_type": "code",
   "execution_count": 61,
   "metadata": {},
   "outputs": [
    {
     "name": "stdout",
     "output_type": "stream",
     "text": [
      "background: url(https://www.famousbirthdays.com/thumbnails/jenner-kendall-medium.jpg) no-repeat center center; background-size:cover;\n",
      "background: url(https://www.famousbirthdays.com/thumbnails/paul-logan-medium.jpg) no-repeat center center; background-size:cover;\n",
      "background: url(https://www.famousbirthdays.com/thumbnails/chalamet-timothee-medium.jpg) no-repeat center center; background-size:cover;\n",
      "background: url(https://www.famousbirthdays.com/thumbnails/taehyung-kim-medium.jpg) no-repeat center center; background-size:cover;\n",
      "background: url(https://www.famousbirthdays.com/thumbnails/hadid-gigi-medium.jpg) no-repeat center center; background-size:cover;\n",
      "background: url(https://www.famousbirthdays.com/thumbnails/martinez-melanie-medium.jpg) no-repeat center center; background-size:cover;\n",
      "background: url(https://www.famousbirthdays.com/thumbnails/jimin-bts-park-medium.jpg) no-repeat center center; background-size:cover;\n",
      "background: url(https://www.famousbirthdays.com/thumbnails/cat-doja-medium.jpg) no-repeat center center; background-size:cover;\n",
      "background: url(https://www.famousbirthdays.com/thumbnails/lipa-dua-medium.jpg) no-repeat center center; background-size:cover;\n",
      "background: url(https://www.famousbirthdays.com/thumbnails/lil-uzi-vert-medium.jpg) no-repeat center center; background-size:cover;\n",
      "background: url(https://www.famousbirthdays.com/thumbnails/lynch-ross-medium.jpg) no-repeat center center; background-size:cover;\n",
      "background: url(https://www.famousbirthdays.com/thumbnails/itsfunneh-medium.jpg) no-repeat center center; background-size:cover;\n",
      "background: url(https://www.famousbirthdays.com/thumbnails/megan-thee-stallion-medium.jpg) no-repeat center center; background-size:cover;\n",
      "background: url(https://www.famousbirthdays.com/thumbnails/malone-post-medium.jpg) no-repeat center center; background-size:cover;\n",
      "background: url(https://www.famousbirthdays.com/thumbnails/lawley-kian-medium.jpg) no-repeat center center; background-size:cover;\n",
      "background: url(https://www.famousbirthdays.com/thumbnails/jisoo-kim-medium.jpg) no-repeat center center; background-size:cover;\n",
      "background: url(https://www.famousbirthdays.com/thumbnails/sails-queen-medium.jpg) no-repeat center center; background-size:cover;\n",
      "background: url(https://www.famousbirthdays.com/thumbnails/levin-rachel-medium.jpg) no-repeat center center; background-size:cover;\n",
      "background: url(https://www.famousbirthdays.com/thumbnails/dyer-natalia-medium.jpg) no-repeat center center; background-size:cover;\n",
      "background: url(https://www.famousbirthdays.com/thumbnails/demartino-niki-medium.jpg) no-repeat center center; background-size:cover;\n",
      "background: url(https://www.famousbirthdays.com/thumbnails/rife-matt-medium.jpg) no-repeat center center; background-size:cover;\n",
      "background: url(https://www.famousbirthdays.com/thumbnails/marano-laura-medium.jpg) no-repeat center center; background-size:cover;\n",
      "background: url(https://www.famousbirthdays.com/thumbnails/sivan-troye-medium.jpg) no-repeat center center; background-size:cover;\n",
      "background: url(https://www.famousbirthdays.com/thumbnails/mahomes-patrick-medium.jpg) no-repeat center center; background-size:cover;\n",
      "background: url(https://www.famousbirthdays.com/thumbnails/a-boogie-wit-da-hoodie-medium.jpg) no-repeat center center; background-size:cover;\n",
      "background: url(https://www.famousbirthdays.com/thumbnails/kehlani-medium.jpg) no-repeat center center; background-size:cover;\n",
      "background: url(https://www.famousbirthdays.com/thumbnails/badboyhalo-medium.jpg) no-repeat center center; background-size:cover;\n",
      "background: url(https://www.famousbirthdays.com/thumbnails/demartino-gabriella-medium.jpg) no-repeat center center; background-size:cover;\n",
      "background: url(https://www.famousbirthdays.com/thumbnails/notyouraverageflight-medium.jpg) no-repeat center center; background-size:cover;\n",
      "background: url(https://www.famousbirthdays.com/thumbnails/twaimz-medium.jpg) no-repeat center center; background-size:cover;\n",
      "background: url(https://www.famousbirthdays.com/thumbnails/scherer-corey-medium.jpg) no-repeat center center; background-size:cover;\n",
      "background: url(https://www.famousbirthdays.com/thumbnails/dobre-darius-medium.jpg) no-repeat center center; background-size:cover;\n",
      "background: url(https://www.famousbirthdays.com/thumbnails/kopf-corinna-medium.jpg) no-repeat center center; background-size:cover;\n",
      "background: url(https://www.famousbirthdays.com/thumbnails/barn-vikram-medium.jpg) no-repeat center center; background-size:cover;\n",
      "background: url(https://www.famousbirthdays.com/thumbnails/awadis-brandon-medium.jpg) no-repeat center center; background-size:cover;\n",
      "background: url(https://www.famousbirthdays.com/thumbnails/mota-bethany-medium.jpg) no-repeat center center; background-size:cover;\n",
      "background: url(https://www.famousbirthdays.com/thumbnails/payne-ethan-medium.jpg) no-repeat center center; background-size:cover;\n",
      "background: url(https://www.famousbirthdays.com/thumbnails/taylor-brennen-medium.jpg) no-repeat center center; background-size:cover;\n",
      "background: url(https://www.famousbirthdays.com/thumbnails/crompton-nick-medium.jpg) no-repeat center center; background-size:cover;\n",
      "background: url(https://www.famousbirthdays.com/thumbnails/clifford-michaelgordon-medium.jpg) no-repeat center center; background-size:cover;\n",
      "background: url(https://www.famousbirthdays.com/thumbnails/lachlan-medium.jpg) no-repeat center center; background-size:cover;\n",
      "background: url(https://www.famousbirthdays.com/thumbnails/leeds-megan-medium.jpg) no-repeat center center; background-size:cover;\n",
      "background: url(https://www.famousbirthdays.com/thumbnails/mcarthur-adam-medium.jpg) no-repeat center center; background-size:cover;\n",
      "background: url(https://www.famousbirthdays.com/thumbnails/danielle-paige-medium.jpg) no-repeat center center; background-size:cover;\n",
      "background: url(https://www.famousbirthdays.com/thumbnails/bean-nick-medium.jpg) no-repeat center center; background-size:cover;\n",
      "background: url(https://www.famousbirthdays.com/thumbnails/brueckner-josh-medium.jpg) no-repeat center center; background-size:cover;\n",
      "background: url(https://www.famousbirthdays.com/thumbnails/la-barrie-corey-medium.jpg) no-repeat center center; background-size:cover;\n",
      "background: url(https://www.famousbirthdays.com/thumbnails/keef-chief-medium.jpg) no-repeat center center; background-size:cover;\n"
     ]
    },
    {
     "ename": "KeyError",
     "evalue": "'style'",
     "output_type": "error",
     "traceback": [
      "\u001b[1;31m---------------------------------------------------------------------------\u001b[0m",
      "\u001b[1;31mKeyError\u001b[0m                                  Traceback (most recent call last)",
      "Cell \u001b[1;32mIn [61], line 8\u001b[0m\n\u001b[0;32m      5\u001b[0m name\u001b[39m.\u001b[39mappend(a\u001b[39m.\u001b[39mtext)\n\u001b[0;32m      6\u001b[0m \u001b[39m# img_url.append(a['href'])\u001b[39;00m\n\u001b[1;32m----> 8\u001b[0m img_url\u001b[39m.\u001b[39mappend(a[\u001b[39m'\u001b[39m\u001b[39mstyle\u001b[39m\u001b[39m'\u001b[39m]) \n\u001b[0;32m     10\u001b[0m \u001b[39mprint\u001b[39m(a[\u001b[39m'\u001b[39m\u001b[39mstyle\u001b[39m\u001b[39m'\u001b[39m])\n",
      "File \u001b[1;32m~\\AppData\\Roaming\\Python\\Python310\\site-packages\\bs4\\element.py:1519\u001b[0m, in \u001b[0;36mTag.__getitem__\u001b[1;34m(self, key)\u001b[0m\n\u001b[0;32m   1516\u001b[0m \u001b[39mdef\u001b[39;00m \u001b[39m__getitem__\u001b[39m(\u001b[39mself\u001b[39m, key):\n\u001b[0;32m   1517\u001b[0m     \u001b[39m\"\"\"tag[key] returns the value of the 'key' attribute for the Tag,\u001b[39;00m\n\u001b[0;32m   1518\u001b[0m \u001b[39m    and throws an exception if it's not there.\"\"\"\u001b[39;00m\n\u001b[1;32m-> 1519\u001b[0m     \u001b[39mreturn\u001b[39;00m \u001b[39mself\u001b[39;49m\u001b[39m.\u001b[39;49mattrs[key]\n",
      "\u001b[1;31mKeyError\u001b[0m: 'style'"
     ]
    }
   ],
   "source": [
    "name = []\n",
    "img_url = []\n",
    "\n",
    "for a in people:\n",
    "    name.append(a.text)\n",
    "    # img_url.append(a['href'])\n",
    "\n",
    "    img_url.append(a['style']) \n",
    "\n",
    "    print(a['style'])\n",
    "\n",
    "\n",
    "\n"
   ]
  },
  {
   "cell_type": "code",
   "execution_count": 62,
   "metadata": {},
   "outputs": [
    {
     "data": {
      "text/plain": [
       "['background: url(https://www.famousbirthdays.com/thumbnails/jenner-kendall-medium.jpg) no-repeat center center; background-size:cover;',\n",
       " 'background: url(https://www.famousbirthdays.com/thumbnails/paul-logan-medium.jpg) no-repeat center center; background-size:cover;',\n",
       " 'background: url(https://www.famousbirthdays.com/thumbnails/chalamet-timothee-medium.jpg) no-repeat center center; background-size:cover;',\n",
       " 'background: url(https://www.famousbirthdays.com/thumbnails/taehyung-kim-medium.jpg) no-repeat center center; background-size:cover;',\n",
       " 'background: url(https://www.famousbirthdays.com/thumbnails/hadid-gigi-medium.jpg) no-repeat center center; background-size:cover;',\n",
       " 'background: url(https://www.famousbirthdays.com/thumbnails/martinez-melanie-medium.jpg) no-repeat center center; background-size:cover;',\n",
       " 'background: url(https://www.famousbirthdays.com/thumbnails/jimin-bts-park-medium.jpg) no-repeat center center; background-size:cover;',\n",
       " 'background: url(https://www.famousbirthdays.com/thumbnails/cat-doja-medium.jpg) no-repeat center center; background-size:cover;',\n",
       " 'background: url(https://www.famousbirthdays.com/thumbnails/lipa-dua-medium.jpg) no-repeat center center; background-size:cover;',\n",
       " 'background: url(https://www.famousbirthdays.com/thumbnails/lil-uzi-vert-medium.jpg) no-repeat center center; background-size:cover;',\n",
       " 'background: url(https://www.famousbirthdays.com/thumbnails/lynch-ross-medium.jpg) no-repeat center center; background-size:cover;',\n",
       " 'background: url(https://www.famousbirthdays.com/thumbnails/itsfunneh-medium.jpg) no-repeat center center; background-size:cover;',\n",
       " 'background: url(https://www.famousbirthdays.com/thumbnails/megan-thee-stallion-medium.jpg) no-repeat center center; background-size:cover;',\n",
       " 'background: url(https://www.famousbirthdays.com/thumbnails/malone-post-medium.jpg) no-repeat center center; background-size:cover;',\n",
       " 'background: url(https://www.famousbirthdays.com/thumbnails/lawley-kian-medium.jpg) no-repeat center center; background-size:cover;',\n",
       " 'background: url(https://www.famousbirthdays.com/thumbnails/jisoo-kim-medium.jpg) no-repeat center center; background-size:cover;',\n",
       " 'background: url(https://www.famousbirthdays.com/thumbnails/sails-queen-medium.jpg) no-repeat center center; background-size:cover;',\n",
       " 'background: url(https://www.famousbirthdays.com/thumbnails/levin-rachel-medium.jpg) no-repeat center center; background-size:cover;',\n",
       " 'background: url(https://www.famousbirthdays.com/thumbnails/dyer-natalia-medium.jpg) no-repeat center center; background-size:cover;',\n",
       " 'background: url(https://www.famousbirthdays.com/thumbnails/demartino-niki-medium.jpg) no-repeat center center; background-size:cover;',\n",
       " 'background: url(https://www.famousbirthdays.com/thumbnails/rife-matt-medium.jpg) no-repeat center center; background-size:cover;',\n",
       " 'background: url(https://www.famousbirthdays.com/thumbnails/marano-laura-medium.jpg) no-repeat center center; background-size:cover;',\n",
       " 'background: url(https://www.famousbirthdays.com/thumbnails/sivan-troye-medium.jpg) no-repeat center center; background-size:cover;',\n",
       " 'background: url(https://www.famousbirthdays.com/thumbnails/mahomes-patrick-medium.jpg) no-repeat center center; background-size:cover;',\n",
       " 'background: url(https://www.famousbirthdays.com/thumbnails/a-boogie-wit-da-hoodie-medium.jpg) no-repeat center center; background-size:cover;',\n",
       " 'background: url(https://www.famousbirthdays.com/thumbnails/kehlani-medium.jpg) no-repeat center center; background-size:cover;',\n",
       " 'background: url(https://www.famousbirthdays.com/thumbnails/badboyhalo-medium.jpg) no-repeat center center; background-size:cover;',\n",
       " 'background: url(https://www.famousbirthdays.com/thumbnails/demartino-gabriella-medium.jpg) no-repeat center center; background-size:cover;',\n",
       " 'background: url(https://www.famousbirthdays.com/thumbnails/notyouraverageflight-medium.jpg) no-repeat center center; background-size:cover;',\n",
       " 'background: url(https://www.famousbirthdays.com/thumbnails/twaimz-medium.jpg) no-repeat center center; background-size:cover;',\n",
       " 'background: url(https://www.famousbirthdays.com/thumbnails/scherer-corey-medium.jpg) no-repeat center center; background-size:cover;',\n",
       " 'background: url(https://www.famousbirthdays.com/thumbnails/dobre-darius-medium.jpg) no-repeat center center; background-size:cover;',\n",
       " 'background: url(https://www.famousbirthdays.com/thumbnails/kopf-corinna-medium.jpg) no-repeat center center; background-size:cover;',\n",
       " 'background: url(https://www.famousbirthdays.com/thumbnails/barn-vikram-medium.jpg) no-repeat center center; background-size:cover;',\n",
       " 'background: url(https://www.famousbirthdays.com/thumbnails/awadis-brandon-medium.jpg) no-repeat center center; background-size:cover;',\n",
       " 'background: url(https://www.famousbirthdays.com/thumbnails/mota-bethany-medium.jpg) no-repeat center center; background-size:cover;',\n",
       " 'background: url(https://www.famousbirthdays.com/thumbnails/payne-ethan-medium.jpg) no-repeat center center; background-size:cover;',\n",
       " 'background: url(https://www.famousbirthdays.com/thumbnails/taylor-brennen-medium.jpg) no-repeat center center; background-size:cover;',\n",
       " 'background: url(https://www.famousbirthdays.com/thumbnails/crompton-nick-medium.jpg) no-repeat center center; background-size:cover;',\n",
       " 'background: url(https://www.famousbirthdays.com/thumbnails/clifford-michaelgordon-medium.jpg) no-repeat center center; background-size:cover;',\n",
       " 'background: url(https://www.famousbirthdays.com/thumbnails/lachlan-medium.jpg) no-repeat center center; background-size:cover;',\n",
       " 'background: url(https://www.famousbirthdays.com/thumbnails/leeds-megan-medium.jpg) no-repeat center center; background-size:cover;',\n",
       " 'background: url(https://www.famousbirthdays.com/thumbnails/mcarthur-adam-medium.jpg) no-repeat center center; background-size:cover;',\n",
       " 'background: url(https://www.famousbirthdays.com/thumbnails/danielle-paige-medium.jpg) no-repeat center center; background-size:cover;',\n",
       " 'background: url(https://www.famousbirthdays.com/thumbnails/bean-nick-medium.jpg) no-repeat center center; background-size:cover;',\n",
       " 'background: url(https://www.famousbirthdays.com/thumbnails/brueckner-josh-medium.jpg) no-repeat center center; background-size:cover;',\n",
       " 'background: url(https://www.famousbirthdays.com/thumbnails/la-barrie-corey-medium.jpg) no-repeat center center; background-size:cover;',\n",
       " 'background: url(https://www.famousbirthdays.com/thumbnails/keef-chief-medium.jpg) no-repeat center center; background-size:cover;']"
      ]
     },
     "execution_count": 62,
     "metadata": {},
     "output_type": "execute_result"
    }
   ],
   "source": [
    "img_url"
   ]
  },
  {
   "cell_type": "code",
   "execution_count": 52,
   "metadata": {},
   "outputs": [
    {
     "ename": "ValueError",
     "evalue": "All arrays must be of the same length",
     "output_type": "error",
     "traceback": [
      "\u001b[1;31m---------------------------------------------------------------------------\u001b[0m",
      "\u001b[1;31mValueError\u001b[0m                                Traceback (most recent call last)",
      "Cell \u001b[1;32mIn [52], line 1\u001b[0m\n\u001b[1;32m----> 1\u001b[0m pd\u001b[39m.\u001b[39mDataFrame({\n\u001b[0;32m      2\u001b[0m     \u001b[39m'\u001b[39m\u001b[39mname\u001b[39m\u001b[39m'\u001b[39m: name,\n\u001b[0;32m      3\u001b[0m     \u001b[39m'\u001b[39m\u001b[39mimg_url\u001b[39m\u001b[39m'\u001b[39m:img_url\n\u001b[0;32m      4\u001b[0m })\n",
      "File \u001b[1;32m~\\AppData\\Roaming\\Python\\Python310\\site-packages\\pandas\\core\\frame.py:663\u001b[0m, in \u001b[0;36mDataFrame.__init__\u001b[1;34m(self, data, index, columns, dtype, copy)\u001b[0m\n\u001b[0;32m    657\u001b[0m     mgr \u001b[39m=\u001b[39m \u001b[39mself\u001b[39m\u001b[39m.\u001b[39m_init_mgr(\n\u001b[0;32m    658\u001b[0m         data, axes\u001b[39m=\u001b[39m{\u001b[39m\"\u001b[39m\u001b[39mindex\u001b[39m\u001b[39m\"\u001b[39m: index, \u001b[39m\"\u001b[39m\u001b[39mcolumns\u001b[39m\u001b[39m\"\u001b[39m: columns}, dtype\u001b[39m=\u001b[39mdtype, copy\u001b[39m=\u001b[39mcopy\n\u001b[0;32m    659\u001b[0m     )\n\u001b[0;32m    661\u001b[0m \u001b[39melif\u001b[39;00m \u001b[39misinstance\u001b[39m(data, \u001b[39mdict\u001b[39m):\n\u001b[0;32m    662\u001b[0m     \u001b[39m# GH#38939 de facto copy defaults to False only in non-dict cases\u001b[39;00m\n\u001b[1;32m--> 663\u001b[0m     mgr \u001b[39m=\u001b[39m dict_to_mgr(data, index, columns, dtype\u001b[39m=\u001b[39;49mdtype, copy\u001b[39m=\u001b[39;49mcopy, typ\u001b[39m=\u001b[39;49mmanager)\n\u001b[0;32m    664\u001b[0m \u001b[39melif\u001b[39;00m \u001b[39misinstance\u001b[39m(data, ma\u001b[39m.\u001b[39mMaskedArray):\n\u001b[0;32m    665\u001b[0m     \u001b[39mimport\u001b[39;00m \u001b[39mnumpy\u001b[39;00m\u001b[39m.\u001b[39;00m\u001b[39mma\u001b[39;00m\u001b[39m.\u001b[39;00m\u001b[39mmrecords\u001b[39;00m \u001b[39mas\u001b[39;00m \u001b[39mmrecords\u001b[39;00m\n",
      "File \u001b[1;32m~\\AppData\\Roaming\\Python\\Python310\\site-packages\\pandas\\core\\internals\\construction.py:494\u001b[0m, in \u001b[0;36mdict_to_mgr\u001b[1;34m(data, index, columns, dtype, typ, copy)\u001b[0m\n\u001b[0;32m    490\u001b[0m     \u001b[39melse\u001b[39;00m:\n\u001b[0;32m    491\u001b[0m         \u001b[39m# dtype check to exclude e.g. range objects, scalars\u001b[39;00m\n\u001b[0;32m    492\u001b[0m         arrays \u001b[39m=\u001b[39m [x\u001b[39m.\u001b[39mcopy() \u001b[39mif\u001b[39;00m \u001b[39mhasattr\u001b[39m(x, \u001b[39m\"\u001b[39m\u001b[39mdtype\u001b[39m\u001b[39m\"\u001b[39m) \u001b[39melse\u001b[39;00m x \u001b[39mfor\u001b[39;00m x \u001b[39min\u001b[39;00m arrays]\n\u001b[1;32m--> 494\u001b[0m \u001b[39mreturn\u001b[39;00m arrays_to_mgr(arrays, columns, index, dtype\u001b[39m=\u001b[39;49mdtype, typ\u001b[39m=\u001b[39;49mtyp, consolidate\u001b[39m=\u001b[39;49mcopy)\n",
      "File \u001b[1;32m~\\AppData\\Roaming\\Python\\Python310\\site-packages\\pandas\\core\\internals\\construction.py:119\u001b[0m, in \u001b[0;36marrays_to_mgr\u001b[1;34m(arrays, columns, index, dtype, verify_integrity, typ, consolidate)\u001b[0m\n\u001b[0;32m    116\u001b[0m \u001b[39mif\u001b[39;00m verify_integrity:\n\u001b[0;32m    117\u001b[0m     \u001b[39m# figure out the index, if necessary\u001b[39;00m\n\u001b[0;32m    118\u001b[0m     \u001b[39mif\u001b[39;00m index \u001b[39mis\u001b[39;00m \u001b[39mNone\u001b[39;00m:\n\u001b[1;32m--> 119\u001b[0m         index \u001b[39m=\u001b[39m _extract_index(arrays)\n\u001b[0;32m    120\u001b[0m     \u001b[39melse\u001b[39;00m:\n\u001b[0;32m    121\u001b[0m         index \u001b[39m=\u001b[39m ensure_index(index)\n",
      "File \u001b[1;32m~\\AppData\\Roaming\\Python\\Python310\\site-packages\\pandas\\core\\internals\\construction.py:667\u001b[0m, in \u001b[0;36m_extract_index\u001b[1;34m(data)\u001b[0m\n\u001b[0;32m    665\u001b[0m lengths \u001b[39m=\u001b[39m \u001b[39mlist\u001b[39m(\u001b[39mset\u001b[39m(raw_lengths))\n\u001b[0;32m    666\u001b[0m \u001b[39mif\u001b[39;00m \u001b[39mlen\u001b[39m(lengths) \u001b[39m>\u001b[39m \u001b[39m1\u001b[39m:\n\u001b[1;32m--> 667\u001b[0m     \u001b[39mraise\u001b[39;00m \u001b[39mValueError\u001b[39;00m(\u001b[39m\"\u001b[39m\u001b[39mAll arrays must be of the same length\u001b[39m\u001b[39m\"\u001b[39m)\n\u001b[0;32m    669\u001b[0m \u001b[39mif\u001b[39;00m have_dicts:\n\u001b[0;32m    670\u001b[0m     \u001b[39mraise\u001b[39;00m \u001b[39mValueError\u001b[39;00m(\n\u001b[0;32m    671\u001b[0m         \u001b[39m\"\u001b[39m\u001b[39mMixing dicts with non-Series may lead to ambiguous ordering.\u001b[39m\u001b[39m\"\u001b[39m\n\u001b[0;32m    672\u001b[0m     )\n",
      "\u001b[1;31mValueError\u001b[0m: All arrays must be of the same length"
     ]
    }
   ],
   "source": [
    "pd.DataFrame({\n",
    "    'name': name,\n",
    "    'img_url':img_url\n",
    "})"
   ]
  }
 ],
 "metadata": {
  "kernelspec": {
   "display_name": "Python 3",
   "language": "python",
   "name": "python3"
  },
  "language_info": {
   "codemirror_mode": {
    "name": "ipython",
    "version": 3
   },
   "file_extension": ".py",
   "mimetype": "text/x-python",
   "name": "python",
   "nbconvert_exporter": "python",
   "pygments_lexer": "ipython3",
   "version": "3.10.7"
  },
  "orig_nbformat": 4,
  "vscode": {
   "interpreter": {
    "hash": "26de051ba29f2982a8de78e945f0abaf191376122a1563185a90213a26c5da77"
   }
  }
 },
 "nbformat": 4,
 "nbformat_minor": 2
}
