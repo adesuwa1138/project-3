{
 "cells": [
  {
   "cell_type": "code",
   "execution_count": 1,
   "id": "6f268497",
   "metadata": {},
   "outputs": [],
   "source": [
    "import pandas as pd"
   ]
  },
  {
   "cell_type": "code",
   "execution_count": 3,
   "id": "e5605338",
   "metadata": {},
   "outputs": [],
   "source": [
    "df = pd.read_csv(\"StateNames.csv\")"
   ]
  },
  {
   "cell_type": "code",
   "execution_count": 4,
   "id": "f0605926",
   "metadata": {},
   "outputs": [
    {
     "data": {
      "text/html": [
       "<div>\n",
       "<style scoped>\n",
       "    .dataframe tbody tr th:only-of-type {\n",
       "        vertical-align: middle;\n",
       "    }\n",
       "\n",
       "    .dataframe tbody tr th {\n",
       "        vertical-align: top;\n",
       "    }\n",
       "\n",
       "    .dataframe thead th {\n",
       "        text-align: right;\n",
       "    }\n",
       "</style>\n",
       "<table border=\"1\" class=\"dataframe\">\n",
       "  <thead>\n",
       "    <tr style=\"text-align: right;\">\n",
       "      <th></th>\n",
       "      <th>Id</th>\n",
       "      <th>Name</th>\n",
       "      <th>Year</th>\n",
       "      <th>Gender</th>\n",
       "      <th>State</th>\n",
       "      <th>Count</th>\n",
       "    </tr>\n",
       "  </thead>\n",
       "  <tbody>\n",
       "    <tr>\n",
       "      <th>0</th>\n",
       "      <td>1</td>\n",
       "      <td>Mary</td>\n",
       "      <td>1910</td>\n",
       "      <td>F</td>\n",
       "      <td>AK</td>\n",
       "      <td>14</td>\n",
       "    </tr>\n",
       "    <tr>\n",
       "      <th>1</th>\n",
       "      <td>2</td>\n",
       "      <td>Annie</td>\n",
       "      <td>1910</td>\n",
       "      <td>F</td>\n",
       "      <td>AK</td>\n",
       "      <td>12</td>\n",
       "    </tr>\n",
       "    <tr>\n",
       "      <th>2</th>\n",
       "      <td>3</td>\n",
       "      <td>Anna</td>\n",
       "      <td>1910</td>\n",
       "      <td>F</td>\n",
       "      <td>AK</td>\n",
       "      <td>10</td>\n",
       "    </tr>\n",
       "    <tr>\n",
       "      <th>3</th>\n",
       "      <td>4</td>\n",
       "      <td>Margaret</td>\n",
       "      <td>1910</td>\n",
       "      <td>F</td>\n",
       "      <td>AK</td>\n",
       "      <td>8</td>\n",
       "    </tr>\n",
       "    <tr>\n",
       "      <th>4</th>\n",
       "      <td>5</td>\n",
       "      <td>Helen</td>\n",
       "      <td>1910</td>\n",
       "      <td>F</td>\n",
       "      <td>AK</td>\n",
       "      <td>7</td>\n",
       "    </tr>\n",
       "  </tbody>\n",
       "</table>\n",
       "</div>"
      ],
      "text/plain": [
       "   Id      Name  Year Gender State  Count\n",
       "0   1      Mary  1910      F    AK     14\n",
       "1   2     Annie  1910      F    AK     12\n",
       "2   3      Anna  1910      F    AK     10\n",
       "3   4  Margaret  1910      F    AK      8\n",
       "4   5     Helen  1910      F    AK      7"
      ]
     },
     "execution_count": 4,
     "metadata": {},
     "output_type": "execute_result"
    }
   ],
   "source": [
    "df.head()"
   ]
  },
  {
   "cell_type": "code",
   "execution_count": 5,
   "id": "b39f3d73",
   "metadata": {},
   "outputs": [
    {
     "data": {
      "text/plain": [
       "2008    94970\n",
       "2009    94609\n",
       "2007    94332\n",
       "2014    94148\n",
       "2010    93307\n",
       "        ...  \n",
       "1914    28822\n",
       "1913    25277\n",
       "1912    23179\n",
       "1911    17621\n",
       "1910    16830\n",
       "Name: Year, Length: 105, dtype: int64"
      ]
     },
     "execution_count": 5,
     "metadata": {},
     "output_type": "execute_result"
    }
   ],
   "source": [
    "df.Year.value_counts()"
   ]
  },
  {
   "cell_type": "markdown",
   "id": "a40101b7",
   "metadata": {},
   "source": [
    "# north west, south west, north east, south east"
   ]
  },
  {
   "cell_type": "code",
   "execution_count": 8,
   "id": "3f7871da",
   "metadata": {},
   "outputs": [
    {
     "data": {
      "text/plain": [
       "51"
      ]
     },
     "execution_count": 8,
     "metadata": {},
     "output_type": "execute_result"
    }
   ],
   "source": [
    "len(df.State.unique())"
   ]
  },
  {
   "cell_type": "code",
   "execution_count": 11,
   "id": "39dd6e09",
   "metadata": {},
   "outputs": [],
   "source": [
    "State = df.State.unique()"
   ]
  },
  {
   "cell_type": "code",
   "execution_count": 16,
   "id": "3d8f9b1b",
   "metadata": {},
   "outputs": [
    {
     "data": {
      "text/plain": [
       "0          AK\n",
       "1          AK\n",
       "2          AK\n",
       "3          AK\n",
       "4          AK\n",
       "           ..\n",
       "5647421    WY\n",
       "5647422    WY\n",
       "5647423    WY\n",
       "5647424    WY\n",
       "5647425    WY\n",
       "Name: State, Length: 5647426, dtype: object"
      ]
     },
     "execution_count": 16,
     "metadata": {},
     "output_type": "execute_result"
    }
   ],
   "source": [
    "state_df = df.loc[:, \"State\"]\n",
    "state_df"
   ]
  },
  {
   "cell_type": "code",
   "execution_count": 13,
   "id": "956c7460",
   "metadata": {},
   "outputs": [
    {
     "ename": "AttributeError",
     "evalue": "'numpy.ndarray' object has no attribute 'to_csv'",
     "output_type": "error",
     "traceback": [
      "\u001b[1;31m---------------------------------------------------------------------------\u001b[0m",
      "\u001b[1;31mAttributeError\u001b[0m                            Traceback (most recent call last)",
      "\u001b[1;32m~\\AppData\\Local\\Temp\\ipykernel_5936\\1002688413.py\u001b[0m in \u001b[0;36m<module>\u001b[1;34m\u001b[0m\n\u001b[1;32m----> 1\u001b[1;33m \u001b[0mState\u001b[0m\u001b[1;33m.\u001b[0m\u001b[0mto_csv\u001b[0m\u001b[1;33m(\u001b[0m\u001b[1;34m\"State_abbr.csv\"\u001b[0m\u001b[1;33m)\u001b[0m\u001b[1;33m\u001b[0m\u001b[1;33m\u001b[0m\u001b[0m\n\u001b[0m",
      "\u001b[1;31mAttributeError\u001b[0m: 'numpy.ndarray' object has no attribute 'to_csv'"
     ]
    }
   ],
   "source": [
    "State.to_csv(\"State_abbr.csv\")"
   ]
  },
  {
   "cell_type": "code",
   "execution_count": 10,
   "id": "00a2a43a",
   "metadata": {},
   "outputs": [
    {
     "data": {
      "text/plain": [
       "array([1910, 1911, 1912, 1913, 1914, 1915, 1916, 1917, 1918, 1919, 1920,\n",
       "       1921, 1922, 1923, 1924, 1925, 1926, 1927, 1928, 1929, 1930, 1931,\n",
       "       1932, 1933, 1934, 1935, 1936, 1937, 1938, 1939, 1940, 1941, 1942,\n",
       "       1943, 1944, 1945, 1946, 1947, 1948, 1949, 1950, 1951, 1952, 1953,\n",
       "       1954, 1955, 1956, 1957, 1958, 1959, 1960, 1961, 1962, 1963, 1964,\n",
       "       1965, 1966, 1967, 1968, 1969, 1970, 1971, 1972, 1973, 1974, 1975,\n",
       "       1976, 1977, 1978, 1979, 1980, 1981, 1982, 1983, 1984, 1985, 1986,\n",
       "       1987, 1988, 1989, 1990, 1991, 1992, 1993, 1994, 1995, 1996, 1997,\n",
       "       1998, 1999, 2000, 2001, 2002, 2003, 2004, 2005, 2006, 2007, 2008,\n",
       "       2009, 2010, 2011, 2012, 2013, 2014], dtype=int64)"
      ]
     },
     "execution_count": 10,
     "metadata": {},
     "output_type": "execute_result"
    }
   ],
   "source": [
    "df.Year.unique()"
   ]
  },
  {
   "cell_type": "code",
   "execution_count": null,
   "id": "542640b2",
   "metadata": {},
   "outputs": [],
   "source": []
  }
 ],
 "metadata": {
  "kernelspec": {
   "display_name": "PythonData",
   "language": "python",
   "name": "pythondata"
  },
  "language_info": {
   "codemirror_mode": {
    "name": "ipython",
    "version": 3
   },
   "file_extension": ".py",
   "mimetype": "text/x-python",
   "name": "python",
   "nbconvert_exporter": "python",
   "pygments_lexer": "ipython3",
   "version": "3.7.7"
  }
 },
 "nbformat": 4,
 "nbformat_minor": 5
}
